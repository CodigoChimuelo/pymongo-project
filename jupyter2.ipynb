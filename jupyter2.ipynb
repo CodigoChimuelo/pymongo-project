{
 "cells": [
  {
   "cell_type": "code",
   "execution_count": 1,
   "metadata": {},
   "outputs": [],
   "source": [
    "from pymongo import MongoClient\n",
    "import pandas as pd\n",
    "import json"
   ]
  },
  {
   "cell_type": "code",
   "execution_count": 2,
   "metadata": {},
   "outputs": [
    {
     "data": {
      "text/html": [
       "<div>\n",
       "<style scoped>\n",
       "    .dataframe tbody tr th:only-of-type {\n",
       "        vertical-align: middle;\n",
       "    }\n",
       "\n",
       "    .dataframe tbody tr th {\n",
       "        vertical-align: top;\n",
       "    }\n",
       "\n",
       "    .dataframe thead th {\n",
       "        text-align: right;\n",
       "    }\n",
       "</style>\n",
       "<table border=\"1\" class=\"dataframe\">\n",
       "  <thead>\n",
       "    <tr style=\"text-align: right;\">\n",
       "      <th></th>\n",
       "      <th>_id</th>\n",
       "      <th>founded_year</th>\n",
       "      <th>geoindex</th>\n",
       "      <th>name</th>\n",
       "      <th>offices</th>\n",
       "      <th>total_money_raised</th>\n",
       "    </tr>\n",
       "  </thead>\n",
       "  <tbody>\n",
       "    <tr>\n",
       "      <th>0</th>\n",
       "      <td>5d88e2962fa7a019e86bf3d5</td>\n",
       "      <td>2012</td>\n",
       "      <td>{'type': 'Point', 'coordinates': [-73.985506, ...</td>\n",
       "      <td>PeekYou</td>\n",
       "      <td>[{'latitude': 40.757929, 'longitude': -73.9855...</td>\n",
       "      <td>$1.83M</td>\n",
       "    </tr>\n",
       "    <tr>\n",
       "      <th>1</th>\n",
       "      <td>5d88e2962fa7a019e86bf3d6</td>\n",
       "      <td>2010</td>\n",
       "      <td>{'type': 'Point', 'coordinates': [-111.9035, 3...</td>\n",
       "      <td>GENWI</td>\n",
       "      <td>[{'latitude': 33.8171, 'longitude': -111.9035}]</td>\n",
       "      <td>$7.1M</td>\n",
       "    </tr>\n",
       "    <tr>\n",
       "      <th>2</th>\n",
       "      <td>5d88e2962fa7a019e86bf3d7</td>\n",
       "      <td>2013</td>\n",
       "      <td>{'type': 'Point', 'coordinates': [-122.323895,...</td>\n",
       "      <td>Fixya</td>\n",
       "      <td>[{'latitude': 37.566879, 'longitude': -122.323...</td>\n",
       "      <td>$8M</td>\n",
       "    </tr>\n",
       "  </tbody>\n",
       "</table>\n",
       "</div>"
      ],
      "text/plain": [
       "                        _id  founded_year  \\\n",
       "0  5d88e2962fa7a019e86bf3d5          2012   \n",
       "1  5d88e2962fa7a019e86bf3d6          2010   \n",
       "2  5d88e2962fa7a019e86bf3d7          2013   \n",
       "\n",
       "                                            geoindex     name  \\\n",
       "0  {'type': 'Point', 'coordinates': [-73.985506, ...  PeekYou   \n",
       "1  {'type': 'Point', 'coordinates': [-111.9035, 3...    GENWI   \n",
       "2  {'type': 'Point', 'coordinates': [-122.323895,...    Fixya   \n",
       "\n",
       "                                             offices total_money_raised  \n",
       "0  [{'latitude': 40.757929, 'longitude': -73.9855...             $1.83M  \n",
       "1    [{'latitude': 33.8171, 'longitude': -111.9035}]              $7.1M  \n",
       "2  [{'latitude': 37.566879, 'longitude': -122.323...                $8M  "
      ]
     },
     "execution_count": 2,
     "metadata": {},
     "output_type": "execute_result"
    }
   ],
   "source": [
    "# conexión con  mongo\n",
    "client = MongoClient(\"mongodb://localhost:27017/\")\n",
    "\n",
    "# conexión con la base de datos \"db_companies\"\n",
    "db = client.companies_clean\n",
    "companies=db.clean_collection.find()\n",
    "data_companies= pd.DataFrame(companies)\n",
    "data_companies.head(3) "
   ]
  },
  {
   "cell_type": "code",
   "execution_count": 3,
   "metadata": {},
   "outputs": [],
   "source": [
    "near = db.clean_collection.find()\n",
    "df = pd.DataFrame(near)"
   ]
  },
  {
   "cell_type": "code",
   "execution_count": 4,
   "metadata": {},
   "outputs": [
    {
     "data": {
      "text/plain": [
       "{'type': 'Point', 'coordinates': [-71.24756, 42.318138]}"
      ]
     },
     "execution_count": 4,
     "metadata": {},
     "output_type": "execute_result"
    }
   ],
   "source": [
    "test = df.iloc[20, ]\n",
    "test.geoindex"
   ]
  },
  {
   "cell_type": "code",
   "execution_count": 5,
   "metadata": {},
   "outputs": [],
   "source": [
    "def geonear(geopoint, maxdistance=100000):\n",
    "    return db.collection_clean.find({\n",
    "        \"geoindex\":{\n",
    "            \"$near\":{\n",
    "                \"$geometry\":geopoint,\n",
    "                \"$maxDistance\":maxdistance\n",
    "            }}})"
   ]
  },
  {
   "cell_type": "code",
   "execution_count": 7,
   "metadata": {},
   "outputs": [
    {
     "ename": "TypeError",
     "evalue": "getCompaniesNear() missing 2 required positional arguments: 'max_Distance' and 'db'",
     "output_type": "error",
     "traceback": [
      "\u001b[1;31m---------------------------------------------------------------------------\u001b[0m",
      "\u001b[1;31mTypeError\u001b[0m                                 Traceback (most recent call last)",
      "\u001b[1;32m<ipython-input-7-a12828fb6b01>\u001b[0m in \u001b[0;36m<module>\u001b[1;34m\u001b[0m\n\u001b[1;32m----> 1\u001b[1;33m \u001b[0mgetCompaniesNear\u001b[0m\u001b[1;33m(\u001b[0m\u001b[0mtest\u001b[0m\u001b[1;33m.\u001b[0m\u001b[0mgeoindex\u001b[0m\u001b[1;33m,\u001b[0m \u001b[1;36m100000\u001b[0m\u001b[1;33m)\u001b[0m\u001b[1;33m.\u001b[0m\u001b[0mcount\u001b[0m\u001b[1;33m(\u001b[0m\u001b[1;33m)\u001b[0m\u001b[1;33m\u001b[0m\u001b[1;33m\u001b[0m\u001b[0m\n\u001b[0m",
      "\u001b[1;31mTypeError\u001b[0m: getCompaniesNear() missing 2 required positional arguments: 'max_Distance' and 'db'"
     ]
    }
   ],
   "source": [
    "getCompaniesNear(test.geoindex, 100000).count()"
   ]
  },
  {
   "cell_type": "code",
   "execution_count": null,
   "metadata": {},
   "outputs": [],
   "source": []
  },
  {
   "cell_type": "code",
   "execution_count": null,
   "metadata": {},
   "outputs": [],
   "source": []
  },
  {
   "cell_type": "code",
   "execution_count": null,
   "metadata": {},
   "outputs": [],
   "source": []
  },
  {
   "cell_type": "code",
   "execution_count": null,
   "metadata": {},
   "outputs": [],
   "source": []
  },
  {
   "cell_type": "code",
   "execution_count": null,
   "metadata": {},
   "outputs": [],
   "source": []
  }
 ],
 "metadata": {
  "kernelspec": {
   "display_name": "Python 3",
   "language": "python",
   "name": "python3"
  },
  "language_info": {
   "codemirror_mode": {
    "name": "ipython",
    "version": 3
   },
   "file_extension": ".py",
   "mimetype": "text/x-python",
   "name": "python",
   "nbconvert_exporter": "python",
   "pygments_lexer": "ipython3",
   "version": "3.7.3"
  }
 },
 "nbformat": 4,
 "nbformat_minor": 2
}

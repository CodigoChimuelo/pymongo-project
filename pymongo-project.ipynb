{
 "cells": [
  {
   "cell_type": "code",
   "execution_count": 1,
   "metadata": {},
   "outputs": [],
   "source": [
    "from pymongo import MongoClient\n",
    "import pandas as pd\n",
    "import json"
   ]
  },
  {
   "cell_type": "code",
   "execution_count": 2,
   "metadata": {
    "scrolled": true
   },
   "outputs": [],
   "source": [
    "# conexión con  mongo\n",
    "client = MongoClient(\"mongodb://localhost:27017/\")\n",
    "\n",
    "# conexión con la base de datos \"db_companies\"\n",
    "db = client.companies"
   ]
  },
  {
   "cell_type": "code",
   "execution_count": null,
   "metadata": {},
   "outputs": [],
   "source": []
  },
  {
   "cell_type": "code",
   "execution_count": null,
   "metadata": {},
   "outputs": [],
   "source": []
  },
  {
   "cell_type": "code",
   "execution_count": 3,
   "metadata": {
    "scrolled": true
   },
   "outputs": [],
   "source": [
    "query = {\"$and\":[\n",
    "                                {\"founded_year\": {\"$gte\": 2009}},\n",
    "                                {\"offices\": {\"$exists\": True}},\n",
    "                                {\"offices\": {\"$ne\": None}}, \n",
    "                                {\"offices.latitude\":{\"$ne\": None}}, \n",
    "                                {\"offices.longitude\":{\"$ne\": None}},\n",
    "                                {\"total_money_raised\": {\"$regex\" : \"M\" }}, \n",
    "                                {\"founded_year\": {\"$exists\": True}}, \n",
    "                                {\"$or\": [\n",
    "                                    {\"category_code\": \"design\" } ,\n",
    "                                    {\"category_code\": \"web\" } , \n",
    "                                    {\"category_code\": \"software\" } , \n",
    "                                    {\"category_code\": \"games_video\" } , \n",
    "                                    {\"category_code\": \"mobile\" } , \n",
    "                                    {\"category_code\": \"enterprise\" } ,   \n",
    "                                    {\"category_code\": \"analytics\" } ,\n",
    "                                    {'category_code': \"search\"},\n",
    "                                    {'category_code': \"network_hosting\"} ,   \n",
    "                                    {\"category_code\": \"photo_video\" } ,   \n",
    "                                    ]} ,\n",
    "                                      \n",
    "                                ]\n",
    "                                }\n",
    "\n",
    "objec = {\"_id\":0, \"name\":1, \"total_money_raised\":1, \"founded_year\":1, \"offices\":1,\n",
    "\"offices.latitude\":1, \"offices.longitude\":1}\n",
    "\n",
    "companies=db.companies.find(query,objec)"
   ]
  },
  {
   "cell_type": "code",
   "execution_count": 4,
   "metadata": {},
   "outputs": [],
   "source": [
    "data_companies= pd.DataFrame(companies)"
   ]
  },
  {
   "cell_type": "code",
   "execution_count": 5,
   "metadata": {},
   "outputs": [
    {
     "data": {
      "text/html": [
       "<div>\n",
       "<style scoped>\n",
       "    .dataframe tbody tr th:only-of-type {\n",
       "        vertical-align: middle;\n",
       "    }\n",
       "\n",
       "    .dataframe tbody tr th {\n",
       "        vertical-align: top;\n",
       "    }\n",
       "\n",
       "    .dataframe thead th {\n",
       "        text-align: right;\n",
       "    }\n",
       "</style>\n",
       "<table border=\"1\" class=\"dataframe\">\n",
       "  <thead>\n",
       "    <tr style=\"text-align: right;\">\n",
       "      <th></th>\n",
       "      <th>founded_year</th>\n",
       "      <th>name</th>\n",
       "      <th>offices</th>\n",
       "      <th>total_money_raised</th>\n",
       "    </tr>\n",
       "  </thead>\n",
       "  <tbody>\n",
       "    <tr>\n",
       "      <th>0</th>\n",
       "      <td>2012</td>\n",
       "      <td>PeekYou</td>\n",
       "      <td>[{'latitude': 40.757929, 'longitude': -73.9855...</td>\n",
       "      <td>$1.83M</td>\n",
       "    </tr>\n",
       "    <tr>\n",
       "      <th>1</th>\n",
       "      <td>2010</td>\n",
       "      <td>GENWI</td>\n",
       "      <td>[{'latitude': 33.8171, 'longitude': -111.9035}]</td>\n",
       "      <td>$7.1M</td>\n",
       "    </tr>\n",
       "    <tr>\n",
       "      <th>2</th>\n",
       "      <td>2013</td>\n",
       "      <td>Fixya</td>\n",
       "      <td>[{'latitude': 37.566879, 'longitude': -122.323...</td>\n",
       "      <td>$8M</td>\n",
       "    </tr>\n",
       "  </tbody>\n",
       "</table>\n",
       "</div>"
      ],
      "text/plain": [
       "   founded_year     name                                            offices  \\\n",
       "0          2012  PeekYou  [{'latitude': 40.757929, 'longitude': -73.9855...   \n",
       "1          2010    GENWI    [{'latitude': 33.8171, 'longitude': -111.9035}]   \n",
       "2          2013    Fixya  [{'latitude': 37.566879, 'longitude': -122.323...   \n",
       "\n",
       "  total_money_raised  \n",
       "0             $1.83M  \n",
       "1              $7.1M  \n",
       "2                $8M  "
      ]
     },
     "execution_count": 5,
     "metadata": {},
     "output_type": "execute_result"
    }
   ],
   "source": [
    "data_companies.head(3)"
   ]
  },
  {
   "cell_type": "code",
   "execution_count": 6,
   "metadata": {},
   "outputs": [
    {
     "data": {
      "text/plain": [
       "(39, 4)"
      ]
     },
     "execution_count": 6,
     "metadata": {},
     "output_type": "execute_result"
    }
   ],
   "source": [
    "data_companies.shape"
   ]
  },
  {
   "cell_type": "code",
   "execution_count": 7,
   "metadata": {},
   "outputs": [
    {
     "data": {
      "text/plain": [
       "[{'latitude': 48.8566667, 'longitude': 2.3509871}]"
      ]
     },
     "execution_count": 7,
     "metadata": {},
     "output_type": "execute_result"
    }
   ],
   "source": [
    "data_companies['offices'][34]"
   ]
  },
  {
   "cell_type": "code",
   "execution_count": 8,
   "metadata": {},
   "outputs": [
    {
     "data": {
      "text/plain": [
       "founded_year           int64\n",
       "name                  object\n",
       "offices               object\n",
       "total_money_raised    object\n",
       "dtype: object"
      ]
     },
     "execution_count": 8,
     "metadata": {},
     "output_type": "execute_result"
    }
   ],
   "source": [
    "data_companies.dtypes"
   ]
  },
  {
   "cell_type": "code",
   "execution_count": 9,
   "metadata": {
    "scrolled": false
   },
   "outputs": [
    {
     "name": "stdout",
     "output_type": "stream",
     "text": [
      "{0: [{'latitude': 40.757929, 'longitude': -73.985506}], 1: [{'latitude': 33.8171, 'longitude': -111.9035}], 2: [{'latitude': 37.566879, 'longitude': -122.323895}], 3: [], 4: [{'latitude': 45.5049305, 'longitude': -73.5681635}], 5: [{'latitude': 37.446823, 'longitude': -122.161523}, {'latitude': 34.0698494, 'longitude': -118.4054182}], 6: [{'latitude': 37.5645375, 'longitude': -122.3254705}], 7: [{'latitude': 32.0554, 'longitude': 34.7595}], 8: [{'latitude': 51.51819, 'longitude': -0.208979}], 9: [{'latitude': 42.275263, 'longitude': -71.24762}], 10: [{'latitude': 53.544711, 'longitude': -113.515769}], 11: [{'latitude': 39.9052263, 'longitude': -86.0547016}], 12: [{'latitude': 40.744618, 'longitude': -73.987764}], 13: [{'latitude': 48.8566667, 'longitude': 2.3509871}], 14: [{'latitude': 37.3229727, 'longitude': -122.0385792}], 15: [{'latitude': 37.270518, 'longitude': -121.955879}], 16: [{'latitude': 37.7905538, 'longitude': -122.4041485}], 17: [{'latitude': 37.317735, 'longitude': -121.949417}, {'latitude': 35.8535092, 'longitude': -78.8267112}], 18: [{'latitude': 42.3756409, 'longitude': -72.5196907}], 19: [{'latitude': 37.5561712, 'longitude': -122.0780632}, {'latitude': 12.971606, 'longitude': 77.594376}], 20: [{'latitude': 42.318138, 'longitude': -71.24756}], 21: [{'latitude': 42.6751888, 'longitude': -71.1469003}], 22: [{'latitude': 37.4189073, 'longitude': -122.0884286}], 23: [], 24: [{'latitude': 40.7078343, 'longitude': -74.0136605}], 25: [{'latitude': 47.6103008, 'longitude': -122.3399782}], 26: [{'latitude': 34.007112, 'longitude': -118.489748}], 27: [{'latitude': 42.364014, 'longitude': -71.101375}], 28: [{'latitude': 40.73343, 'longitude': -73.990967}], 29: [{'latitude': 37.4484914, 'longitude': -122.1802812}], 30: [{'latitude': 37.4734314, 'longitude': -121.9417078}], 31: [{'latitude': 42.3647559, 'longitude': -71.1032591}], 32: [{'latitude': 40.438423, 'longitude': -80.001933}], 33: [{'latitude': 37.775206, 'longitude': -122.419209}], 34: [{'latitude': 48.8566667, 'longitude': 2.3509871}], 35: [{'latitude': 52.3657578, 'longitude': 4.8928722}], 36: [{'latitude': 40.7408042, 'longitude': -74.00717}], 37: [{'latitude': 49.2824551, 'longitude': -123.109217}], 38: [{'latitude': 50.83997, 'longitude': 4.3464721}]}\n"
     ]
    }
   ],
   "source": [
    "coords=data_companies['offices'].to_dict()\n",
    "print(coords)"
   ]
  },
  {
   "cell_type": "code",
   "execution_count": 10,
   "metadata": {},
   "outputs": [],
   "source": [
    "#data_companies[\"ID\"] = pd.DataFrame([key for key in coords.keys()]) #esto no funciona"
   ]
  },
  {
   "cell_type": "code",
   "execution_count": 11,
   "metadata": {
    "scrolled": true
   },
   "outputs": [],
   "source": [
    "#data_companies"
   ]
  },
  {
   "cell_type": "code",
   "execution_count": 12,
   "metadata": {},
   "outputs": [],
   "source": [
    "#data_companies['offices']= data_companies['ID'].map(coords) #esto tampoco funciona"
   ]
  },
  {
   "cell_type": "code",
   "execution_count": 13,
   "metadata": {},
   "outputs": [],
   "source": [
    "def geopoint(x):\n",
    "   for dic in x:\n",
    "       longitude = dic[\"longitude\"]\n",
    "       latitude = dic[\"latitude\"]\n",
    "       return {\"type\": \"Point\", \"coordinates\": [longitude, latitude]}\n",
    "data_companies['geoindex']= data_companies['offices'].apply(geopoint)"
   ]
  },
  {
   "cell_type": "code",
   "execution_count": 14,
   "metadata": {},
   "outputs": [
    {
     "data": {
      "text/html": [
       "<div>\n",
       "<style scoped>\n",
       "    .dataframe tbody tr th:only-of-type {\n",
       "        vertical-align: middle;\n",
       "    }\n",
       "\n",
       "    .dataframe tbody tr th {\n",
       "        vertical-align: top;\n",
       "    }\n",
       "\n",
       "    .dataframe thead th {\n",
       "        text-align: right;\n",
       "    }\n",
       "</style>\n",
       "<table border=\"1\" class=\"dataframe\">\n",
       "  <thead>\n",
       "    <tr style=\"text-align: right;\">\n",
       "      <th></th>\n",
       "      <th>founded_year</th>\n",
       "      <th>name</th>\n",
       "      <th>offices</th>\n",
       "      <th>total_money_raised</th>\n",
       "      <th>geoindex</th>\n",
       "    </tr>\n",
       "  </thead>\n",
       "  <tbody>\n",
       "    <tr>\n",
       "      <th>0</th>\n",
       "      <td>2012</td>\n",
       "      <td>PeekYou</td>\n",
       "      <td>[{'latitude': 40.757929, 'longitude': -73.9855...</td>\n",
       "      <td>$1.83M</td>\n",
       "      <td>{'type': 'Point', 'coordinates': [-73.985506, ...</td>\n",
       "    </tr>\n",
       "    <tr>\n",
       "      <th>1</th>\n",
       "      <td>2010</td>\n",
       "      <td>GENWI</td>\n",
       "      <td>[{'latitude': 33.8171, 'longitude': -111.9035}]</td>\n",
       "      <td>$7.1M</td>\n",
       "      <td>{'type': 'Point', 'coordinates': [-111.9035, 3...</td>\n",
       "    </tr>\n",
       "    <tr>\n",
       "      <th>2</th>\n",
       "      <td>2013</td>\n",
       "      <td>Fixya</td>\n",
       "      <td>[{'latitude': 37.566879, 'longitude': -122.323...</td>\n",
       "      <td>$8M</td>\n",
       "      <td>{'type': 'Point', 'coordinates': [-122.323895,...</td>\n",
       "    </tr>\n",
       "    <tr>\n",
       "      <th>3</th>\n",
       "      <td>2013</td>\n",
       "      <td>Wamba</td>\n",
       "      <td>[]</td>\n",
       "      <td>€3M</td>\n",
       "      <td>None</td>\n",
       "    </tr>\n",
       "    <tr>\n",
       "      <th>4</th>\n",
       "      <td>2010</td>\n",
       "      <td>Needium</td>\n",
       "      <td>[{'latitude': 45.5049305, 'longitude': -73.568...</td>\n",
       "      <td>$1M</td>\n",
       "      <td>{'type': 'Point', 'coordinates': [-73.5681635,...</td>\n",
       "    </tr>\n",
       "  </tbody>\n",
       "</table>\n",
       "</div>"
      ],
      "text/plain": [
       "   founded_year     name                                            offices  \\\n",
       "0          2012  PeekYou  [{'latitude': 40.757929, 'longitude': -73.9855...   \n",
       "1          2010    GENWI    [{'latitude': 33.8171, 'longitude': -111.9035}]   \n",
       "2          2013    Fixya  [{'latitude': 37.566879, 'longitude': -122.323...   \n",
       "3          2013    Wamba                                                 []   \n",
       "4          2010  Needium  [{'latitude': 45.5049305, 'longitude': -73.568...   \n",
       "\n",
       "  total_money_raised                                           geoindex  \n",
       "0             $1.83M  {'type': 'Point', 'coordinates': [-73.985506, ...  \n",
       "1              $7.1M  {'type': 'Point', 'coordinates': [-111.9035, 3...  \n",
       "2                $8M  {'type': 'Point', 'coordinates': [-122.323895,...  \n",
       "3                €3M                                               None  \n",
       "4                $1M  {'type': 'Point', 'coordinates': [-73.5681635,...  "
      ]
     },
     "execution_count": 14,
     "metadata": {},
     "output_type": "execute_result"
    }
   ],
   "source": [
    "data_companies.head(5)"
   ]
  },
  {
   "cell_type": "code",
   "execution_count": 15,
   "metadata": {},
   "outputs": [],
   "source": [
    "data_companies.to_json (r'D:\\ironhack\\datamad0819\\companies_clean.json', orient=\"records\", lines=True)"
   ]
  },
  {
   "cell_type": "code",
   "execution_count": null,
   "metadata": {},
   "outputs": [],
   "source": []
  },
  {
   "cell_type": "code",
   "execution_count": null,
   "metadata": {},
   "outputs": [],
   "source": []
  }
 ],
 "metadata": {
  "kernelspec": {
   "display_name": "Python 3",
   "language": "python",
   "name": "python3"
  },
  "language_info": {
   "codemirror_mode": {
    "name": "ipython",
    "version": 3
   },
   "file_extension": ".py",
   "mimetype": "text/x-python",
   "name": "python",
   "nbconvert_exporter": "python",
   "pygments_lexer": "ipython3",
   "version": "3.7.3"
  }
 },
 "nbformat": 4,
 "nbformat_minor": 2
}
